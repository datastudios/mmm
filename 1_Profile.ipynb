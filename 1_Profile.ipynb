{
 "cells": [
  {
   "cell_type": "code",
   "execution_count": null,
   "id": "137ead9a-c932-4dd1-80c2-e98fbd6a920f",
   "metadata": {
    "tags": []
   },
   "outputs": [],
   "source": [
    "# import hashlib as hl\n",
    "# import numpy as np\n",
    "# import pandas as pd\n",
    "# import string\n",
    "# import re\n",
    "# import lightweight_mmm\n",
    "# # Import jax.numpy and any other library we might need.\n",
    "# import jax.numpy as jnp\n",
    "# import numpyro\n",
    "\n",
    "# import seaborn as sns\n",
    "\n",
    "\n",
    "# # Import the relevant modules of the library\n",
    "# from lightweight_mmm import lightweight_mmm\n",
    "# from lightweight_mmm import optimize_media\n",
    "# from lightweight_mmm import plot\n",
    "# from lightweight_mmm import preprocessing\n",
    "# from lightweight_mmm import utils\n",
    "# import holidays\n",
    "# from sklearn.preprocessing import StandardScaler, OrdinalEncoder\n",
    "# from sklearn.impute import SimpleImputer\n",
    "# from sklearn.compose import ColumnTransformer\n",
    "# from sklearn.pipeline import Pipeline\n",
    "# import matplotlib.pyplot as plt\n",
    "# import seaborn as sns\n",
    "# from sklearn.preprocessing import StandardScaler\n",
    "# from sklearn.cluster import KMeans\n",
    "# from sklearn import metrics\n",
    "# from sklearn.cluster import AgglomerativeClustering\n",
    "# from ydata_profiling import ProfileReport\n",
    "# import warnings\n",
    "# import nbimporter\n",
    "# import utils.utils_mmm as utils\n",
    "# from ydata_profiling import ProfileReport\n",
    "# import matplotlib.ticker as mticker\n",
    "\n",
    "# from statsmodels.tsa.seasonal import STL \n",
    "\n",
    "\n",
    "# from statsmodels.tsa.seasonal import seasonal_decompose\n",
    "\n",
    "# warnings.filterwarnings('ignore')\n",
    "# pd.options.mode.chained_assignment = None"
   ]
  },
  {
   "cell_type": "code",
   "execution_count": 8,
   "id": "de447df6",
   "metadata": {},
   "outputs": [],
   "source": [
    "import hashlib as hl\n",
    "import numpy as np\n",
    "import pandas as pd\n",
    "import string\n",
    "import re\n",
    "import seaborn as sns\n",
    "import holidays\n",
    "import matplotlib.pyplot as plt\n",
    "import matplotlib.ticker as mticker\n",
    "import warnings\n",
    "warnings.filterwarnings('ignore')\n",
    "# pd.options.mode.chained_assignment = None\n",
    "# import nbimporter\n",
    "\n",
    "# from sklearn.preprocessing import StandardScaler, OrdinalEncoder\n",
    "# from sklearn.impute import SimpleImputer\n",
    "# from sklearn.compose import ColumnTransformer\n",
    "# from sklearn.pipeline import Pipeline\n",
    "# from sklearn.cluster import KMeans\n",
    "# from sklearn import metrics\n",
    "# from sklearn.cluster import AgglomerativeClustering\n",
    "\n",
    "from statsmodels.tsa.seasonal import STL, seasonal_decompose\n",
    "\n",
    "import jax.numpy as jnp\n",
    "import numpyro\n",
    "\n",
    "from ydata_profiling import ProfileReport\n",
    "\n",
    "from lightweight_mmm import lightweight_mmm, optimize_media, plot, preprocessing, utils\n",
    "import utils.utils_mmm as utils\n"
   ]
  },
  {
   "cell_type": "markdown",
   "id": "ed27039a",
   "metadata": {},
   "source": [
    "**PLEASE NOTE:** All data contained in this and subsequent notebooks is anonymized data that have been derived from a real-world dataset."
   ]
  },
  {
   "cell_type": "markdown",
   "id": "739dbb9a",
   "metadata": {},
   "source": [
    "# Introduction"
   ]
  },
  {
   "cell_type": "markdown",
   "id": "27305e05",
   "metadata": {},
   "source": [
    "## Industry | B2C Healthcare Insurance"
   ]
  },
  {
   "cell_type": "markdown",
   "id": "d28f8981",
   "metadata": {},
   "source": [
    "The B2C (business-to-consumer) healthcare insurance industry encompasses companies offering individual and family health insurance plans directly to consumers. These plans provide coverage for medical expenses incurred for various health services and treatments. Key features of the B2C healthcare insurance industry include:\n",
    "\n",
    "* Focus on individual and family plans: Unlike B2B (business-to-business) insurance, which caters to employer-sponsored plans, B2C primarily focuses on individual and family policies purchased directly by consumers.\n",
    "* Diverse product offerings: Companies offer a variety of health insurance plans with different coverage levels, deductibles, co-pays, and network options to cater to diverse needs and budgets.\n",
    "* Competitive landscape: The market is highly competitive, with numerous insurance providers vying for market share. This competition can lead to innovative product offerings and competitive pricing.\n",
    "* Regulatory environment: The industry is heavily regulated by government agencies to ensure consumer protection and financial stability.\n",
    "* Technology adoption: Technology plays a significant role in the industry, with online enrollment platforms, telemedicine services, and mobile apps becoming increasingly popular."
   ]
  },
  {
   "cell_type": "markdown",
   "id": "69267db3",
   "metadata": {},
   "source": [
    "## Business Challenge | Marketing Mix Optimization"
   ]
  },
  {
   "cell_type": "markdown",
   "id": "3e4630e1",
   "metadata": {},
   "source": [
    "Commited to maximizing [ROAS](https://www.apexure.com/blog/roi-vs-roas-which-is-the-better-metric-for-ad-campaigns) within their $70 million+ annual budget, the marketing team of the nation's largest supplemental insurance provider actively sought recommendations to optimize lead generation and conversions for their insurance products.\n",
    "\n",
    "Historically, the organization had mainly focused on traditional approaches based on brand marketing to address their core objectives of driving website and call center leads to generate new healthcare premiums. However, this approach lacked a cross-channel view of marketing spend distribution and performance.\n",
    "\n",
    "The design and adoption of a \"test-and-learn\" framework that focused on incremental and continous improvements to marketing spend distribution informed via experimenation was needed. One of the first steps identified to help inform and guide this approach was the development of a marketing mix model (MMM).  The model developed served as a catalyst and \"North Star\" for the marketing organization's adoption of a more data-driven approach to marketing spend optimization. \n",
    "\n",
    "The following case study provides a technical summary for the development of the marketing mix model along with some of the next-step recommendations coming out of that exercise."
   ]
  },
  {
   "cell_type": "markdown",
   "id": "1268758c",
   "metadata": {},
   "source": [
    "# Model Development"
   ]
  },
  {
   "cell_type": "markdown",
   "id": "fd4c73a9",
   "metadata": {},
   "source": [
    "## Introduction | Marketing Mix Model (MMM)"
   ]
  },
  {
   "cell_type": "markdown",
   "id": "636f3470",
   "metadata": {},
   "source": [
    "**Marketing Mix Model (MMM)**<br>\n",
    "Marketing Mix Modeling (MMM) is a data-driven approach that helps businesses understand how different marketing activities and channels contribute to their key goals, such as sales, conversions, or brand awareness. Overall, MMM is a powerful tool that can help businesses maximize the return on their marketing investment by providing data-driven insights and optimizing their marketing efforts.\n",
    "\n",
    "**The Evolution of MMM**<br>\n",
    "Although MMM has been around for decades and has been used a tool for measuring the effectiveness of marketing channels and campaigns, with the advent of digital marketing and the more granular approach to tracking individual users across multiple marketing touchpointsit was overshadowed by some time by \n",
    "\n",
    "https://www.databricks.com/blog/what-mmm-and-why-does-it-matter-marketers"
   ]
  },
  {
   "cell_type": "markdown",
   "id": "70fbe477",
   "metadata": {},
   "source": [
    "## MMM Libraries | Robyn and LightweightMMM"
   ]
  },
  {
   "cell_type": "markdown",
   "id": "a1693c79",
   "metadata": {},
   "source": [
    "At the time of the original analysis, the model was developed using a multiple linear regression (MLR) technique.  However, since then various open-source libraries have been developed that are better suited for MMM specifically.  For the development of this case study, I assessed two of these libraries developed by major technology companies:\n",
    "\n",
    "* [Robyn (Meta)](https://facebookexperimental.github.io/Robyn/docs/analysts-guide-to-MMM/) - An open-source project for marketing mix modeling (MMM) developed by Meta's Marketing Science division.\n",
    "* [LightweightMMM (Google)](https://lightweight-mmm.readthedocs.io/en/latest/) - An open-source library developed and maintained by a team of Google engineers primarily focused on improving marketing mix modeling (MMM) techniques. While not an official Google product, it leverages Google's internal expertise and research in the field of marketing analytics.\n",
    "\n",
    "https://medium.com/dp6-us-blog/what-is-the-best-mmm-tool-for-your-company-an-evaluation-of-lightweightmmm-orbit-and-robyn-7ccfed2144a9"
   ]
  },
  {
   "cell_type": "markdown",
   "id": "e903e616-563d-4b6c-94f3-b0128ec8deed",
   "metadata": {},
   "source": [
    "# Load Media Data\n",
    "\n",
    "We load the.    "
   ]
  },
  {
   "cell_type": "code",
   "execution_count": 9,
   "id": "fb2d1ffd",
   "metadata": {},
   "outputs": [],
   "source": [
    "file_path = 'data/mmm_media.csv'\n",
    "media_bi_df, media_mmm_df = utils.preprocess_media_data(file_path)\n",
    "\n",
    "min_week = media_mmm_df.week_of.min()\n",
    "max_week = media_mmm_df.week_of.max()\n",
    "\n",
    "file_path = 'data/mmm_leads_policies.csv'\n",
    "leads_bi_df, sales_bi_df, policies_mmm_df, premiums_mmm_df, leads_mmm_df = utils.preprocess_leads_policies_data(file_path, min_week, max_week)\n",
    "\n"
   ]
  },
  {
   "cell_type": "code",
   "execution_count": 3,
   "id": "b2256f7a",
   "metadata": {},
   "outputs": [
    {
     "data": {
      "text/html": [
       "<div>\n",
       "<style scoped>\n",
       "    .dataframe tbody tr th:only-of-type {\n",
       "        vertical-align: middle;\n",
       "    }\n",
       "\n",
       "    .dataframe tbody tr th {\n",
       "        vertical-align: top;\n",
       "    }\n",
       "\n",
       "    .dataframe thead th {\n",
       "        text-align: right;\n",
       "    }\n",
       "</style>\n",
       "<table border=\"1\" class=\"dataframe\">\n",
       "  <thead>\n",
       "    <tr style=\"text-align: right;\">\n",
       "      <th></th>\n",
       "      <th>week_of</th>\n",
       "      <th>display_spend</th>\n",
       "      <th>paid_search_spend</th>\n",
       "      <th>print_spend</th>\n",
       "      <th>tv_spend</th>\n",
       "      <th>video_spend</th>\n",
       "    </tr>\n",
       "  </thead>\n",
       "  <tbody>\n",
       "    <tr>\n",
       "      <th>0</th>\n",
       "      <td>2014-01-04</td>\n",
       "      <td>1202.0</td>\n",
       "      <td>17642.29</td>\n",
       "      <td>0.0</td>\n",
       "      <td>1412418.0</td>\n",
       "      <td>75527.0</td>\n",
       "    </tr>\n",
       "    <tr>\n",
       "      <th>1</th>\n",
       "      <td>2014-01-11</td>\n",
       "      <td>3032.0</td>\n",
       "      <td>5791.08</td>\n",
       "      <td>0.0</td>\n",
       "      <td>9881.0</td>\n",
       "      <td>97712.0</td>\n",
       "    </tr>\n",
       "    <tr>\n",
       "      <th>2</th>\n",
       "      <td>2014-01-18</td>\n",
       "      <td>7658.0</td>\n",
       "      <td>3756.50</td>\n",
       "      <td>0.0</td>\n",
       "      <td>1694508.0</td>\n",
       "      <td>104803.0</td>\n",
       "    </tr>\n",
       "    <tr>\n",
       "      <th>3</th>\n",
       "      <td>2014-01-25</td>\n",
       "      <td>9177.0</td>\n",
       "      <td>4360.52</td>\n",
       "      <td>0.0</td>\n",
       "      <td>1073405.0</td>\n",
       "      <td>116840.0</td>\n",
       "    </tr>\n",
       "    <tr>\n",
       "      <th>4</th>\n",
       "      <td>2014-02-01</td>\n",
       "      <td>9462.0</td>\n",
       "      <td>5598.07</td>\n",
       "      <td>0.0</td>\n",
       "      <td>299186.0</td>\n",
       "      <td>83999.0</td>\n",
       "    </tr>\n",
       "    <tr>\n",
       "      <th>...</th>\n",
       "      <td>...</td>\n",
       "      <td>...</td>\n",
       "      <td>...</td>\n",
       "      <td>...</td>\n",
       "      <td>...</td>\n",
       "      <td>...</td>\n",
       "    </tr>\n",
       "    <tr>\n",
       "      <th>99</th>\n",
       "      <td>2015-11-28</td>\n",
       "      <td>89454.0</td>\n",
       "      <td>20257.57</td>\n",
       "      <td>3295.0</td>\n",
       "      <td>1005178.0</td>\n",
       "      <td>144905.0</td>\n",
       "    </tr>\n",
       "    <tr>\n",
       "      <th>100</th>\n",
       "      <td>2015-12-05</td>\n",
       "      <td>95721.0</td>\n",
       "      <td>25681.25</td>\n",
       "      <td>0.0</td>\n",
       "      <td>759559.0</td>\n",
       "      <td>88381.0</td>\n",
       "    </tr>\n",
       "    <tr>\n",
       "      <th>101</th>\n",
       "      <td>2015-12-12</td>\n",
       "      <td>61284.0</td>\n",
       "      <td>28171.60</td>\n",
       "      <td>0.0</td>\n",
       "      <td>88128.0</td>\n",
       "      <td>84995.0</td>\n",
       "    </tr>\n",
       "    <tr>\n",
       "      <th>102</th>\n",
       "      <td>2015-12-19</td>\n",
       "      <td>101472.0</td>\n",
       "      <td>17760.68</td>\n",
       "      <td>0.0</td>\n",
       "      <td>317860.0</td>\n",
       "      <td>50532.0</td>\n",
       "    </tr>\n",
       "    <tr>\n",
       "      <th>103</th>\n",
       "      <td>2015-12-26</td>\n",
       "      <td>92797.0</td>\n",
       "      <td>19450.72</td>\n",
       "      <td>0.0</td>\n",
       "      <td>790895.0</td>\n",
       "      <td>52540.0</td>\n",
       "    </tr>\n",
       "  </tbody>\n",
       "</table>\n",
       "<p>104 rows × 6 columns</p>\n",
       "</div>"
      ],
      "text/plain": [
       "       week_of  display_spend  paid_search_spend  print_spend   tv_spend  \\\n",
       "0   2014-01-04         1202.0           17642.29          0.0  1412418.0   \n",
       "1   2014-01-11         3032.0            5791.08          0.0     9881.0   \n",
       "2   2014-01-18         7658.0            3756.50          0.0  1694508.0   \n",
       "3   2014-01-25         9177.0            4360.52          0.0  1073405.0   \n",
       "4   2014-02-01         9462.0            5598.07          0.0   299186.0   \n",
       "..         ...            ...                ...          ...        ...   \n",
       "99  2015-11-28        89454.0           20257.57       3295.0  1005178.0   \n",
       "100 2015-12-05        95721.0           25681.25          0.0   759559.0   \n",
       "101 2015-12-12        61284.0           28171.60          0.0    88128.0   \n",
       "102 2015-12-19       101472.0           17760.68          0.0   317860.0   \n",
       "103 2015-12-26        92797.0           19450.72          0.0   790895.0   \n",
       "\n",
       "     video_spend  \n",
       "0        75527.0  \n",
       "1        97712.0  \n",
       "2       104803.0  \n",
       "3       116840.0  \n",
       "4        83999.0  \n",
       "..           ...  \n",
       "99      144905.0  \n",
       "100      88381.0  \n",
       "101      84995.0  \n",
       "102      50532.0  \n",
       "103      52540.0  \n",
       "\n",
       "[104 rows x 6 columns]"
      ]
     },
     "execution_count": 3,
     "metadata": {},
     "output_type": "execute_result"
    }
   ],
   "source": [
    "media_mmm_df"
   ]
  },
  {
   "cell_type": "code",
   "execution_count": 4,
   "id": "69db832b",
   "metadata": {},
   "outputs": [],
   "source": [
    "\n",
    "# Write for BI\n",
    "leads_bi_df.to_csv('data/leads_bi.csv', index=False)\n",
    "sales_bi_df.to_csv('data/sales_bi.csv', index=False)\n",
    "media_bi_df.to_csv('data/media_bi.csv', index=False)\n",
    "premiums_mmm_df.to_csv('data/premiums_mmm.csv', index=False)"
   ]
  },
  {
   "cell_type": "code",
   "execution_count": null,
   "id": "42148775",
   "metadata": {},
   "outputs": [],
   "source": []
  },
  {
   "cell_type": "markdown",
   "id": "625c996d",
   "metadata": {},
   "source": [
    "## Media Cost vs. Annual Premiums\n",
    "\n",
    "Compare blah blah blah."
   ]
  },
  {
   "cell_type": "code",
   "execution_count": 5,
   "id": "059f73ad",
   "metadata": {},
   "outputs": [
    {
     "name": "stderr",
     "output_type": "stream",
     "text": [
      "C:\\Users\\dfsan\\AppData\\Local\\Packages\\PythonSoftwareFoundation.Python.3.11_qbz5n2kfra8p0\\LocalCache\\local-packages\\Python311\\site-packages\\seaborn\\_core.py:1218: FutureWarning: is_categorical_dtype is deprecated and will be removed in a future version. Use isinstance(dtype, CategoricalDtype) instead\n",
      "  if pd.api.types.is_categorical_dtype(vector):\n",
      "C:\\Users\\dfsan\\AppData\\Local\\Packages\\PythonSoftwareFoundation.Python.3.11_qbz5n2kfra8p0\\LocalCache\\local-packages\\Python311\\site-packages\\seaborn\\_core.py:1218: FutureWarning: is_categorical_dtype is deprecated and will be removed in a future version. Use isinstance(dtype, CategoricalDtype) instead\n",
      "  if pd.api.types.is_categorical_dtype(vector):\n",
      "C:\\Users\\dfsan\\AppData\\Local\\Packages\\PythonSoftwareFoundation.Python.3.11_qbz5n2kfra8p0\\LocalCache\\local-packages\\Python311\\site-packages\\seaborn\\_core.py:1218: FutureWarning: is_categorical_dtype is deprecated and will be removed in a future version. Use isinstance(dtype, CategoricalDtype) instead\n",
      "  if pd.api.types.is_categorical_dtype(vector):\n",
      "C:\\Users\\dfsan\\AppData\\Local\\Packages\\PythonSoftwareFoundation.Python.3.11_qbz5n2kfra8p0\\LocalCache\\local-packages\\Python311\\site-packages\\seaborn\\_core.py:1218: FutureWarning: is_categorical_dtype is deprecated and will be removed in a future version. Use isinstance(dtype, CategoricalDtype) instead\n",
      "  if pd.api.types.is_categorical_dtype(vector):\n",
      "C:\\Users\\dfsan\\AppData\\Local\\Packages\\PythonSoftwareFoundation.Python.3.11_qbz5n2kfra8p0\\LocalCache\\local-packages\\Python311\\site-packages\\seaborn\\_core.py:1218: FutureWarning: is_categorical_dtype is deprecated and will be removed in a future version. Use isinstance(dtype, CategoricalDtype) instead\n",
      "  if pd.api.types.is_categorical_dtype(vector):\n",
      "C:\\Users\\dfsan\\AppData\\Local\\Packages\\PythonSoftwareFoundation.Python.3.11_qbz5n2kfra8p0\\LocalCache\\local-packages\\Python311\\site-packages\\seaborn\\_core.py:1218: FutureWarning: is_categorical_dtype is deprecated and will be removed in a future version. Use isinstance(dtype, CategoricalDtype) instead\n",
      "  if pd.api.types.is_categorical_dtype(vector):\n"
     ]
    },
    {
     "data": {
      "image/png": "[encoded data removed]",
      "text/plain": [
       "<Figure size 1500x500 with 2 Axes>"
      ]
     },
     "metadata": {},
     "output_type": "display_data"
    }
   ],
   "source": [
    "utils.plot_media_and_premiums_YoY(media_bi_df, premiums_mmm_df)"
   ]
  },
  {
   "cell_type": "markdown",
   "id": "2317bba4",
   "metadata": {},
   "source": [
    "## Leads vs. Polices \n",
    "\n",
    "Leads vs Policies blah blah"
   ]
  },
  {
   "cell_type": "code",
   "execution_count": 6,
   "id": "89803b94",
   "metadata": {},
   "outputs": [
    {
     "name": "stderr",
     "output_type": "stream",
     "text": [
      "C:\\Users\\dfsan\\AppData\\Local\\Packages\\PythonSoftwareFoundation.Python.3.11_qbz5n2kfra8p0\\LocalCache\\local-packages\\Python311\\site-packages\\seaborn\\_core.py:1218: FutureWarning: is_categorical_dtype is deprecated and will be removed in a future version. Use isinstance(dtype, CategoricalDtype) instead\n",
      "  if pd.api.types.is_categorical_dtype(vector):\n",
      "C:\\Users\\dfsan\\AppData\\Local\\Packages\\PythonSoftwareFoundation.Python.3.11_qbz5n2kfra8p0\\LocalCache\\local-packages\\Python311\\site-packages\\seaborn\\_core.py:1218: FutureWarning: is_categorical_dtype is deprecated and will be removed in a future version. Use isinstance(dtype, CategoricalDtype) instead\n",
      "  if pd.api.types.is_categorical_dtype(vector):\n",
      "C:\\Users\\dfsan\\AppData\\Local\\Packages\\PythonSoftwareFoundation.Python.3.11_qbz5n2kfra8p0\\LocalCache\\local-packages\\Python311\\site-packages\\seaborn\\_core.py:1218: FutureWarning: is_categorical_dtype is deprecated and will be removed in a future version. Use isinstance(dtype, CategoricalDtype) instead\n",
      "  if pd.api.types.is_categorical_dtype(vector):\n",
      "C:\\Users\\dfsan\\AppData\\Local\\Packages\\PythonSoftwareFoundation.Python.3.11_qbz5n2kfra8p0\\LocalCache\\local-packages\\Python311\\site-packages\\seaborn\\_core.py:1218: FutureWarning: is_categorical_dtype is deprecated and will be removed in a future version. Use isinstance(dtype, CategoricalDtype) instead\n",
      "  if pd.api.types.is_categorical_dtype(vector):\n",
      "C:\\Users\\dfsan\\AppData\\Local\\Packages\\PythonSoftwareFoundation.Python.3.11_qbz5n2kfra8p0\\LocalCache\\local-packages\\Python311\\site-packages\\seaborn\\_core.py:1218: FutureWarning: is_categorical_dtype is deprecated and will be removed in a future version. Use isinstance(dtype, CategoricalDtype) instead\n",
      "  if pd.api.types.is_categorical_dtype(vector):\n",
      "C:\\Users\\dfsan\\AppData\\Local\\Packages\\PythonSoftwareFoundation.Python.3.11_qbz5n2kfra8p0\\LocalCache\\local-packages\\Python311\\site-packages\\seaborn\\_core.py:1218: FutureWarning: is_categorical_dtype is deprecated and will be removed in a future version. Use isinstance(dtype, CategoricalDtype) instead\n",
      "  if pd.api.types.is_categorical_dtype(vector):\n"
     ]
    },
    {
     "data": {
      "image/png": "[encoded data removed]",
      "text/plain": [
       "<Figure size 1500x500 with 2 Axes>"
      ]
     },
     "metadata": {},
     "output_type": "display_data"
    }
   ],
   "source": [
    "utils.plot_leads_and_policies_YoY(leads_mmm_df, policies_mmm_df)"
   ]
  },
  {
   "cell_type": "markdown",
   "id": "c0ccc65c",
   "metadata": {},
   "source": [
    "## Conversion Rate and ROAS\n",
    "\n",
    "Lorem ipsum blah blah"
   ]
  },
  {
   "cell_type": "code",
   "execution_count": 7,
   "id": "d78681d5",
   "metadata": {},
   "outputs": [
    {
     "ename": "NameError",
     "evalue": "name 'conv_rate_mmm_df' is not defined",
     "output_type": "error",
     "traceback": [
      "\u001b[1;31m---------------------------------------------------------------------------\u001b[0m",
      "\u001b[1;31mNameError\u001b[0m                                 Traceback (most recent call last)",
      "Cell \u001b[1;32mIn[7], line 1\u001b[0m\n\u001b[1;32m----> 1\u001b[0m utils\u001b[38;5;241m.\u001b[39mplot_conv_rate_and_roas_YoY(\u001b[43mconv_rate_mmm_df\u001b[49m, premiums_mmm_df, media_bi_df)\n",
      "\u001b[1;31mNameError\u001b[0m: name 'conv_rate_mmm_df' is not defined"
     ]
    }
   ],
   "source": [
    "utils.plot_conv_rate_and_roas_YoY(conv_rate_mmm_df, premiums_mmm_df, media_bi_df)"
   ]
  },
  {
   "cell_type": "markdown",
   "id": "692290b2",
   "metadata": {},
   "source": [
    "## Media Spend by Channel YoY\n",
    "\n",
    "Lorem ipsum blah blah"
   ]
  },
  {
   "cell_type": "code",
   "execution_count": null,
   "id": "37754792",
   "metadata": {},
   "outputs": [],
   "source": [
    "utils.plot_media_spend_by_channel_YoY(media_bi_df)"
   ]
  },
  {
   "cell_type": "markdown",
   "id": "eae21f88",
   "metadata": {},
   "source": [
    "Select appropriate input variables to ensure variability."
   ]
  },
  {
   "cell_type": "code",
   "execution_count": null,
   "id": "b07a2105",
   "metadata": {},
   "outputs": [],
   "source": [
    "import seaborn as sns\n",
    "\n",
    "# Import the required libraries\n",
    "import matplotlib.pyplot as plt\n",
    "\n",
    "media_spend_cols = [col for col in media_mmm_df.columns if 'spend' in col]\n",
    "\n",
    "# Create a grid of line plots\n",
    "fig, axes = plt.subplots(nrows=len(media_spend_cols), ncols=1, figsize=(10, 5*len(media_spend_cols)))\n",
    "\n",
    "# Iterate over each channel and plot the spend level by week\n",
    "for i, channel in enumerate(media_spend_cols):\n",
    "    sns.lineplot(x='week_of', y=channel, data=media_mmm_df, ax=axes[i])\n",
    "    axes[i].set_xlabel('Week')\n",
    "    axes[i].set_ylabel('Spend Level')\n",
    "    axes[i].set_title(f'Spend Level by Week - {channel}')\n",
    "\n",
    "# Adjust the spacing between subplots\n",
    "plt.tight_layout()\n",
    "\n",
    "# Show the plot\n",
    "plt.show()\n"
   ]
  },
  {
   "cell_type": "markdown",
   "id": "070d2927-195a-4960-9133-c5c78ef14f37",
   "metadata": {},
   "source": [
    "## Encode holidays"
   ]
  },
  {
   "cell_type": "code",
   "execution_count": null,
   "id": "8dd87a8c",
   "metadata": {},
   "outputs": [],
   "source": [
    "holidays_bi_df, holidays_mmm_df = utils.get_holidays(media_mmm_df)"
   ]
  },
  {
   "cell_type": "code",
   "execution_count": null,
   "id": "105d3852",
   "metadata": {},
   "outputs": [],
   "source": [
    "# Import required libraries\n",
    "from statsmodels.tsa.stattools import adfuller, kpss\n",
    "\n",
    "# Perform ADF test\n",
    "result = adfuller(premiums_mmm_df['premium_annual'])\n",
    "print('ADF test:\\tp-value: {:.5f}'.format(result[1]))"
   ]
  },
  {
   "cell_type": "code",
   "execution_count": null,
   "id": "eef30c03",
   "metadata": {},
   "outputs": [],
   "source": [
    "import matplotlib.pyplot as plt\n",
    "import pandas as pd\n",
    "import seaborn as sns\n",
    "\n",
    "\n",
    "premiums_sd = STL(premiums_mmm_df['premium_annual'], seasonal=13, period=52).fit()\n",
    "\n",
    "fig = premiums_sd.plot()\n",
    "\n",
    "plt.savefig('img/premium_annual_decompose.png')\n"
   ]
  },
  {
   "cell_type": "code",
   "execution_count": null,
   "id": "afb38cb1",
   "metadata": {},
   "outputs": [],
   "source": [
    "import statsmodels.api as sm\n",
    "\n",
    "sm.stats.acorr_ljungbox(premiums_sd.resid, lags=[5], return_df=True)"
   ]
  },
  {
   "cell_type": "code",
   "execution_count": null,
   "id": "8a17793d",
   "metadata": {},
   "outputs": [],
   "source": [
    "# Check for stationarity\n",
    "from statsmodels.tsa.stattools import adfuller\n",
    "\n",
    "# Perform Augmented Dickey-Fuller test:\n",
    "print('Results of Augmented Dickey-Fuller Test:')\n",
    "dftest = adfuller(premiums_mmm_df['premium_annual'], autolag='AIC')\n",
    "\n",
    "dfoutput = pd.Series(dftest[0:4], index=['Test Statistic','p-value','#Lags Used','Number of Observations Used'])\n",
    "for key,value in dftest[4].items():\n",
    "    dfoutput['Critical Value (%s)'%key] = value\n",
    "\n",
    "print(dfoutput)"
   ]
  },
  {
   "cell_type": "code",
   "execution_count": null,
   "id": "712db064",
   "metadata": {},
   "outputs": [],
   "source": [
    "from matplotlib import pyplot\n",
    "from statsmodels.graphics.tsaplots import plot_acf\n",
    "\n",
    "plot_acf(premiums_mmm_df['premium_annual'], lags=24)\n",
    "pyplot.savefig('acf_plot.png')\n",
    "pyplot.show()"
   ]
  },
  {
   "cell_type": "code",
   "execution_count": null,
   "id": "faa4e78c",
   "metadata": {},
   "outputs": [],
   "source": [
    "premiums_mmm_df = premiums_mmm_df.reset_index()[['week_of', 'premium_annual']]\n",
    "premiums_mmm_df['premium_annual-1'] = premiums_mmm_df['premium_annual'].shift(1)\n",
    "premiums_mmm_df['premium_annual-2'] = premiums_mmm_df['premium_annual'].shift(2)"
   ]
  },
  {
   "cell_type": "markdown",
   "id": "0987f4a7-b75f-4e4a-8ab3-d4d9d970a778",
   "metadata": {},
   "source": [
    "# MMM Model"
   ]
  },
  {
   "cell_type": "code",
   "execution_count": null,
   "id": "41a01368-2081-458d-b759-f54a9e6a33f8",
   "metadata": {
    "tags": []
   },
   "outputs": [],
   "source": [
    "mmm_premiums_df = premiums_mmm_df.merge(holidays_mmm_df, on='week_of', how='left').merge(conv_rate_mmm_df, on='week_of').merge(media_mmm_df, on='week_of')\n",
    "# mmm_premiums_df = premiums_mmm_df.merge(conv_rate_mmm_df, on='week_of').merge(media_mmm_df, on='week_of')\n",
    "mmm_premiums_df['seasonal'] = pd.Series(premiums_sd.seasonal.values)\n",
    "mmm_premiums_df['trend'] = pd.Series(premiums_sd.trend.values)\n",
    "mmm_premiums_df.fillna(0, inplace=True)"
   ]
  },
  {
   "cell_type": "code",
   "execution_count": null,
   "id": "274f9db6-f9ad-4dab-b455-a5b8a724d80a",
   "metadata": {
    "tags": []
   },
   "outputs": [],
   "source": [
    "SEED = 105\n",
    "data_size = len(mmm_premiums_df)\n",
    "holiday_cols = [col for col in mmm_premiums_df.columns if 'holiday' in col]\n",
    "seasonality_cols = [col for col in mmm_premiums_df.columns if 'seasonal' in col]\n",
    "media_spend_cols = [col for col in mmm_premiums_df.columns if 'spend' in col]\n",
    "# other_feature_cols = ['conv_rate'] + ['trend'] + ['premium_annual-1'] + ['premium_annual-2']\n",
    "extra_feature_cols = seasonality_cols # + other_feature_cols\n",
    "\n",
    "# holiday_cols + "
   ]
  },
  {
   "cell_type": "code",
   "execution_count": null,
   "id": "877fc996-7a7b-4b65-841c-a0f4233ebd65",
   "metadata": {
    "tags": []
   },
   "outputs": [],
   "source": [
    "mmm_premiums_df[holiday_cols] = mmm_premiums_df[holiday_cols].astype(int)\n",
    "mmm_premiums_df.sort_values(by='week_of', inplace=True)"
   ]
  },
  {
   "cell_type": "code",
   "execution_count": null,
   "id": "0e92915c",
   "metadata": {},
   "outputs": [],
   "source": [
    "from statsmodels.stats.outliers_influence import variance_inflation_factor \n",
    "  \n",
    "\n",
    "# the independent variables set \n",
    "X = mmm_premiums_df.drop(columns=['week_of','premium_annual-1', 'premium_annual-2', 'trend', 'year', 'conv_rate', 'premium_annual'])\n",
    "  \n",
    "# VIF dataframe \n",
    "vif_data = pd.DataFrame() \n",
    "vif_data[\"feature\"] = X.columns \n",
    "  \n",
    "# calculating VIF for each feature \n",
    "vif_data[\"VIF\"] = [variance_inflation_factor(X.values, i) \n",
    "                          for i in range(len(X.columns))]\n",
    "vif_data "
   ]
  },
  {
   "cell_type": "code",
   "execution_count": null,
   "metadata": {},
   "outputs": [],
   "source": [
    "data_size = len(mmm_premiums_df)\n",
    "n_media_channels = len(media_spend_cols)\n",
    "n_extra_features = len(extra_feature_cols)\n",
    "media_data = mmm_premiums_df[media_spend_cols].to_numpy()\n",
    "extra_features = mmm_premiums_df[extra_feature_cols].to_numpy()\n",
    "target = mmm_premiums_df['premium_annual'].to_numpy()\n",
    "costs = mmm_premiums_df[media_spend_cols].sum().to_numpy()"
   ]
  },
  {
   "cell_type": "code",
   "execution_count": null,
   "metadata": {},
   "outputs": [],
   "source": [
    "# Split and scale data.\n",
    "test_data_period_size = 20\n",
    "split_point = data_size - test_data_period_size\n",
    "\n",
    "# Media data\n",
    "media_data_train = media_data[:split_point, ...]\n",
    "media_data_test = media_data[split_point:, ...]\n",
    "\n",
    "# Extra features\n",
    "extra_features_train = extra_features[:split_point, ...]\n",
    "extra_features_test = extra_features[split_point:, ...]\n",
    "\n",
    "# Target\n",
    "target_train = target[:split_point]"
   ]
  },
  {
   "cell_type": "code",
   "execution_count": null,
   "metadata": {},
   "outputs": [],
   "source": [
    "media_scaler = preprocessing.CustomScaler(divide_operation=jnp.mean)\n",
    "extra_features_scaler = preprocessing.CustomScaler(divide_operation=jnp.mean)\n",
    "target_scaler = preprocessing.CustomScaler(divide_operation=jnp.mean)\n",
    "cost_scaler = preprocessing.CustomScaler(divide_operation=jnp.mean, multiply_by=0.15)\n",
    "\n",
    "media_data_train = media_scaler.fit_transform(media_data_train)\n",
    "extra_features_train = extra_features_scaler.fit_transform(extra_features_train)\n",
    "target_train = target_scaler.fit_transform(target_train)\n",
    "costs = cost_scaler.fit_transform(costs)"
   ]
  },
  {
   "cell_type": "code",
   "execution_count": null,
   "metadata": {},
   "outputs": [],
   "source": [
    "mmm = lightweight_mmm.LightweightMMM(model_name=\"hill_adstock\")"
   ]
  },
  {
   "cell_type": "code",
   "execution_count": null,
   "metadata": {},
   "outputs": [],
   "source": [
    "number_warmup=1000\n",
    "number_samples=1000"
   ]
  },
  {
   "cell_type": "code",
   "execution_count": null,
   "metadata": {},
   "outputs": [],
   "source": [
    "mmm.fit(\n",
    "    media=media_data_train,\n",
    "    media_prior=costs,\n",
    "    target=target_train,\n",
    "    extra_features=extra_features_train,\n",
    "    number_warmup=number_warmup,\n",
    "    number_samples=number_samples,\n",
    "    media_names = media_spend_cols,\n",
    "    seed=SEED)"
   ]
  },
  {
   "cell_type": "code",
   "execution_count": null,
   "id": "fe6475d9",
   "metadata": {},
   "outputs": [],
   "source": [
    "mmm.print_summary()"
   ]
  },
  {
   "cell_type": "code",
   "execution_count": null,
   "metadata": {},
   "outputs": [],
   "source": [
    "plot.plot_model_fit(mmm, target_scaler=target_scaler)"
   ]
  },
  {
   "cell_type": "code",
   "execution_count": null,
   "id": "b7dcd2e1",
   "metadata": {},
   "outputs": [],
   "source": [
    "plot.plot_model_fit(mmm, target_scaler=target_scaler)"
   ]
  },
  {
   "cell_type": "code",
   "execution_count": null,
   "metadata": {},
   "outputs": [],
   "source": [
    "# We have to scale the test media data if we have not done so before.\n",
    "new_predictions = mmm.predict(media=media_scaler.transform(media_data_test),\n",
    "                              extra_features=extra_features_scaler.transform(extra_features_test),\n",
    "                              seed=SEED)"
   ]
  },
  {
   "cell_type": "code",
   "execution_count": null,
   "id": "646c7cbb",
   "metadata": {},
   "outputs": [],
   "source": [
    "plot.plot_out_of_sample_model_fit(out_of_sample_predictions=new_predictions,\n",
    "                                 out_of_sample_target=target_scaler.transform(target[split_point:]))"
   ]
  },
  {
   "cell_type": "code",
   "execution_count": null,
   "metadata": {},
   "outputs": [],
   "source": [
    "media_contribution, roi_hat = mmm.get_posterior_metrics(target_scaler=target_scaler, cost_scaler=cost_scaler)"
   ]
  },
  {
   "cell_type": "code",
   "execution_count": null,
   "metadata": {},
   "outputs": [],
   "source": [
    "plot.plot_media_baseline_contribution_area_plot(media_mix_model=mmm,\n",
    "                                                target_scaler=target_scaler,\n",
    "                                                fig_size=(30,10),\n",
    "                                                channel_names = media_spend_cols\n",
    "                                                )\n",
    "                                                "
   ]
  },
  {
   "cell_type": "code",
   "execution_count": null,
   "metadata": {},
   "outputs": [],
   "source": [
    "plot.plot_bars_media_metrics(metric=media_contribution, metric_name=\"Media Contribution Percentage\", channel_names=media_spend_cols)"
   ]
  },
  {
   "cell_type": "code",
   "execution_count": null,
   "metadata": {},
   "outputs": [],
   "source": [
    "plot.plot_bars_media_metrics(metric=roi_hat, metric_name=\"ROI hat\", channel_names=media_spend_cols)"
   ]
  },
  {
   "cell_type": "code",
   "execution_count": null,
   "metadata": {},
   "outputs": [],
   "source": [
    "plot.plot_response_curves(media_mix_model=mmm, target_scaler=target_scaler, seed=SEED)"
   ]
  },
  {
   "cell_type": "code",
   "execution_count": null,
   "metadata": {},
   "outputs": [],
   "source": [
    "prices = jnp.ones(mmm.n_media_channels)\n",
    "n_time_periods = 20\n",
    "budget = jnp.sum(jnp.dot(prices, media_data.mean(axis=0)))* n_time_periods\n",
    "\n",
    "solution, kpi_without_optim, previous_media_allocation = optimize_media.find_optimal_budgets(\n",
    "    n_time_periods=n_time_periods,\n",
    "    media_mix_model=mmm,\n",
    "    extra_features=extra_features_scaler.transform(extra_features_test)[:n_time_periods],\n",
    "    budget=budget,\n",
    "    prices=prices,\n",
    "    media_scaler=media_scaler,\n",
    "    target_scaler=target_scaler,\n",
    "    bounds_upper_pct=1.5, \n",
    "    seed=SEED)\n",
    "\n",
    "# Obtain the optimal weekly allocation.\n",
    "optimal_buget_allocation = prices * solution.x\n",
    "optimal_buget_allocation\n",
    "\n",
    "# similar renormalization to get previous budget allocation\n",
    "previous_budget_allocation = prices * previous_media_allocation\n",
    "previous_budget_allocation\n",
    "\n",
    "# Both these values should be very close in order to compare KPI\n",
    "budget, optimal_buget_allocation.sum()\n",
    "\n",
    "# Both numbers should be almost equal\n",
    "budget, jnp.sum(solution.x * prices)\n",
    "\n",
    "print(kpi_without_optim)\n",
    "print(optimal_buget_allocation)\n",
    "print(previous_budget_allocation)"
   ]
  },
  {
   "cell_type": "code",
   "execution_count": null,
   "metadata": {},
   "outputs": [],
   "source": [
    "# Plot out pre post optimization budget allocation and predicted target variable comparison.\n",
    "plot.plot_pre_post_budget_allocation_comparison(media_mix_model=mmm, \n",
    "                                                kpi_with_optim=solution['fun'], \n",
    "                                                kpi_without_optim=kpi_without_optim,\n",
    "                                                optimal_buget_allocation=optimal_buget_allocation, \n",
    "                                                previous_budget_allocation=previous_budget_allocation, \n",
    "                                                figure_size=(10,10),\n",
    "                                                channel_names = media_spend_cols)"
   ]
  },
  {
   "cell_type": "code",
   "execution_count": null,
   "id": "363bbadf",
   "metadata": {},
   "outputs": [],
   "source": []
  },
  {
   "cell_type": "code",
   "execution_count": null,
   "id": "42e54467",
   "metadata": {},
   "outputs": [],
   "source": []
  }
 ],
 "metadata": {
  "kernelspec": {
   "display_name": "Python 3 (ipykernel)",
   "language": "python",
   "name": "python3"
  },
  "language_info": {
   "codemirror_mode": {
    "name": "ipython",
    "version": 3
   },
   "file_extension": ".py",
   "mimetype": "text/x-python",
   "name": "python",
   "nbconvert_exporter": "python",
   "pygments_lexer": "ipython3",
   "version": "3.11.7"
  }
 },
 "nbformat": 4,
 "nbformat_minor": 5
}
